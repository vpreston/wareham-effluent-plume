{
 "cells": [
  {
   "cell_type": "markdown",
   "metadata": {},
   "source": [
    "# Data Cleaning Notebook\n",
    "This notebook will read in the raw data from the sensors, clean it, establish a common timestep, merge and interpolate data into a common frame, then create columns of additional information or metrics. Subsets of that final dataset for each transect will also be made.\n",
    "\n",
    "Many of these operations were explored in the Raw Data Parsing notebook found in this repository.\n",
    "\n",
    "CSV files will be saved of each cleaned data set with common timestamp, a merged data set, and transect specific datasets."
   ]
  },
  {
   "cell_type": "markdown",
   "metadata": {},
   "source": [
    "## Loading Dependencies"
   ]
  },
  {
   "cell_type": "code",
   "execution_count": 1,
   "metadata": {
    "collapsed": false
   },
   "outputs": [
    {
     "name": "stderr",
     "output_type": "stream",
     "text": [
      "/home/vpreston/anaconda2/lib/python2.7/site-packages/matplotlib/font_manager.py:273: UserWarning: Matplotlib is building the font cache using fc-list. This may take a moment.\n",
      "  warnings.warn('Matplotlib is building the font cache using fc-list. This may take a moment.')\n",
      "/home/vpreston/anaconda2/lib/python2.7/site-packages/matplotlib/__init__.py:872: UserWarning: axes.color_cycle is deprecated and replaced with axes.prop_cycle; please use the latter.\n",
      "  warnings.warn(self.msg_depr % (key, alt_key))\n"
     ]
    }
   ],
   "source": [
    "import pandas as pd\n",
    "import numpy as np\n",
    "import matplotlib.pyplot as plt\n",
    "import matplotlib\n",
    "% matplotlib inline\n",
    "import seaborn as sns\n",
    "from IPython.display import display\n",
    "import sensor_cleaning as sc\n",
    "\n",
    "#Raw Data\n",
    "CTD_filename = './CTD/data.txt'\n",
    "GGA_filename= './GGA/gga_2017-07-12_f0001.txt'\n",
    "Op1_filename='./Optode/optode_20170712144117.txt'\n",
    "Op2_filename='./Optode/optode_20170712155518.txt'\n",
    "Op3_filename='./Optode/optode_20170712194058.txt'\n",
    "AirMar1_filename='./Weather_Station/airmar1.txt'\n",
    "AirMar2_filename='./Weather_Station/airmar2.txt'\n",
    "AirMar3_filename='./Weather_Station/airmar4.txt'\n",
    "DGE_filename= './DGE/dge_170712_wareham_jetyak_deployment.dat'\n",
    "Nitrate1_filename = './Nitrate/A0066322.CSV'\n",
    "Nitrate2_filename= './Nitrate/A0066323.CSV'\n",
    "Nitrate3_filename= './Nitrate/A0066324.CSV'\n",
    "\n",
    "# PANDAS dataframe display options\n",
    "pd.set_option('display.max_columns', None)\n",
    "\n",
    "# more info at http://matplotlib.org/users/customizing.html\n",
    "plt.rcParams['xtick.labelsize'] = 14\n",
    "plt.rcParams['ytick.labelsize'] = 14\n",
    "plt.rcParams['axes.labelsize'] = 14\n",
    "plt.rcParams['axes.titlesize'] = 16"
   ]
  },
  {
   "cell_type": "code",
   "execution_count": 2,
   "metadata": {
    "collapsed": false
   },
   "outputs": [
    {
     "data": {
      "text/plain": [
       "<module 'sensor_cleaning' from 'sensor_cleaning.pyc'>"
      ]
     },
     "execution_count": 2,
     "metadata": {},
     "output_type": "execute_result"
    }
   ],
   "source": [
    "# in the event that this file is changed on disk, simply reload it using this line\n",
    "reload(sc)"
   ]
  },
  {
   "cell_type": "markdown",
   "metadata": {},
   "source": [
    "## Reading and Cleaning Data from Individual Instruments"
   ]
  },
  {
   "cell_type": "code",
   "execution_count": 3,
   "metadata": {
    "collapsed": false
   },
   "outputs": [
    {
     "data": {
      "text/html": [
       "<div>\n",
       "<table border=\"1\" class=\"dataframe\">\n",
       "  <thead>\n",
       "    <tr style=\"text-align: right;\">\n",
       "      <th></th>\n",
       "      <th>Time</th>\n",
       "      <th>Conductivity</th>\n",
       "      <th>Temperature</th>\n",
       "      <th>Pressure</th>\n",
       "      <th>Sea pressure</th>\n",
       "      <th>Depth</th>\n",
       "      <th>Salinity</th>\n",
       "      <th>Specific conductivity</th>\n",
       "      <th>Density anomaly</th>\n",
       "      <th>Speed of sound</th>\n",
       "      <th>Year</th>\n",
       "      <th>Month</th>\n",
       "      <th>Day</th>\n",
       "      <th>Hour</th>\n",
       "      <th>Minute</th>\n",
       "      <th>Second</th>\n",
       "      <th>Julian_Date</th>\n",
       "      <th>Seconds_Elapsed</th>\n",
       "    </tr>\n",
       "  </thead>\n",
       "  <tbody>\n",
       "    <tr>\n",
       "      <th>25697</th>\n",
       "      <td>2017-07-12 14:48:28.833</td>\n",
       "      <td>2.417025</td>\n",
       "      <td>24.528479</td>\n",
       "      <td>10.240866</td>\n",
       "      <td>0.108366</td>\n",
       "      <td>0.107483</td>\n",
       "      <td>1.253660</td>\n",
       "      <td>2438.990953</td>\n",
       "      <td>-1.885722</td>\n",
       "      <td>1496.841315</td>\n",
       "      <td>2017</td>\n",
       "      <td>7</td>\n",
       "      <td>12</td>\n",
       "      <td>14.0</td>\n",
       "      <td>48.0</td>\n",
       "      <td>28.833</td>\n",
       "      <td>2.457947e+06</td>\n",
       "      <td>1090108.833</td>\n",
       "    </tr>\n",
       "    <tr>\n",
       "      <th>25698</th>\n",
       "      <td>2017-07-12 14:48:29.000</td>\n",
       "      <td>2.416661</td>\n",
       "      <td>24.529848</td>\n",
       "      <td>10.245403</td>\n",
       "      <td>0.112903</td>\n",
       "      <td>0.111982</td>\n",
       "      <td>1.253423</td>\n",
       "      <td>2438.558573</td>\n",
       "      <td>-1.886228</td>\n",
       "      <td>1496.844825</td>\n",
       "      <td>2017</td>\n",
       "      <td>7</td>\n",
       "      <td>12</td>\n",
       "      <td>14.0</td>\n",
       "      <td>48.0</td>\n",
       "      <td>29.000</td>\n",
       "      <td>2.457947e+06</td>\n",
       "      <td>1090109.000</td>\n",
       "    </tr>\n",
       "  </tbody>\n",
       "</table>\n",
       "</div>"
      ],
      "text/plain": [
       "                          Time  Conductivity  Temperature   Pressure  \\\n",
       "25697  2017-07-12 14:48:28.833      2.417025    24.528479  10.240866   \n",
       "25698  2017-07-12 14:48:29.000      2.416661    24.529848  10.245403   \n",
       "\n",
       "       Sea pressure     Depth  Salinity  Specific conductivity  \\\n",
       "25697      0.108366  0.107483  1.253660            2438.990953   \n",
       "25698      0.112903  0.111982  1.253423            2438.558573   \n",
       "\n",
       "       Density anomaly  Speed of sound  Year  Month  Day  Hour  Minute  \\\n",
       "25697        -1.885722     1496.841315  2017      7   12  14.0    48.0   \n",
       "25698        -1.886228     1496.844825  2017      7   12  14.0    48.0   \n",
       "\n",
       "       Second   Julian_Date  Seconds_Elapsed  \n",
       "25697  28.833  2.457947e+06      1090108.833  \n",
       "25698  29.000  2.457947e+06      1090109.000  "
      ]
     },
     "execution_count": 3,
     "metadata": {},
     "output_type": "execute_result"
    }
   ],
   "source": [
    "# Read and clean the CTD information\n",
    "ctd = pd.read_table(CTD_filename, delimiter=',', header=0)\n",
    "ctd = sc.clean_ctd(ctd)\n",
    "\n",
    "# Based on observations of the data made, grab only information within a relevant timeframe\n",
    "ctd = ctd.drop(ctd[ctd.Julian_Date > (1.275 + 2457946)].index)\n",
    "ctd = ctd.drop(ctd[ctd.Julian_Date < (1.117 + 2457946)].index)\n",
    "\n",
    "# plt.plot(ctd['Julian_Date'], ctd['Temperature'])\n",
    "\n",
    "ctd.head(2)"
   ]
  },
  {
   "cell_type": "code",
   "execution_count": 4,
   "metadata": {
    "collapsed": false
   },
   "outputs": [
    {
     "data": {
      "text/html": [
       "<div>\n",
       "<table border=\"1\" class=\"dataframe\">\n",
       "  <thead>\n",
       "    <tr style=\"text-align: right;\">\n",
       "      <th></th>\n",
       "      <th>Time</th>\n",
       "      <th>Year</th>\n",
       "      <th>Month</th>\n",
       "      <th>Day</th>\n",
       "      <th>Hour</th>\n",
       "      <th>Minute</th>\n",
       "      <th>Second</th>\n",
       "      <th>Seconds_Elapsed</th>\n",
       "      <th>Julian_Date</th>\n",
       "      <th>CH4_ppm</th>\n",
       "      <th>CO2_ppm</th>\n",
       "      <th>CH4_ppm_adjusted</th>\n",
       "      <th>CO2_ppm_adjusted</th>\n",
       "    </tr>\n",
       "  </thead>\n",
       "  <tbody>\n",
       "    <tr>\n",
       "      <th>3491</th>\n",
       "      <td>07/12/2017 14:48:29.085</td>\n",
       "      <td>2017</td>\n",
       "      <td>7</td>\n",
       "      <td>12</td>\n",
       "      <td>14.0</td>\n",
       "      <td>48.0</td>\n",
       "      <td>29.085</td>\n",
       "      <td>1090109.085</td>\n",
       "      <td>2.457947e+06</td>\n",
       "      <td>55.0548</td>\n",
       "      <td>6105.91</td>\n",
       "      <td>83.451086</td>\n",
       "      <td>1785.562019</td>\n",
       "    </tr>\n",
       "    <tr>\n",
       "      <th>3492</th>\n",
       "      <td>07/12/2017 14:48:30.062</td>\n",
       "      <td>2017</td>\n",
       "      <td>7</td>\n",
       "      <td>12</td>\n",
       "      <td>14.0</td>\n",
       "      <td>48.0</td>\n",
       "      <td>30.062</td>\n",
       "      <td>1090110.062</td>\n",
       "      <td>2.457947e+06</td>\n",
       "      <td>55.1099</td>\n",
       "      <td>6103.26</td>\n",
       "      <td>83.537036</td>\n",
       "      <td>1784.787074</td>\n",
       "    </tr>\n",
       "  </tbody>\n",
       "</table>\n",
       "</div>"
      ],
      "text/plain": [
       "                         Time  Year  Month  Day  Hour  Minute  Second  \\\n",
       "3491  07/12/2017 14:48:29.085  2017      7   12  14.0    48.0  29.085   \n",
       "3492  07/12/2017 14:48:30.062  2017      7   12  14.0    48.0  30.062   \n",
       "\n",
       "      Seconds_Elapsed   Julian_Date  CH4_ppm  CO2_ppm  CH4_ppm_adjusted  \\\n",
       "3491      1090109.085  2.457947e+06  55.0548  6105.91         83.451086   \n",
       "3492      1090110.062  2.457947e+06  55.1099  6103.26         83.537036   \n",
       "\n",
       "      CO2_ppm_adjusted  \n",
       "3491       1785.562019  \n",
       "3492       1784.787074  "
      ]
     },
     "execution_count": 4,
     "metadata": {},
     "output_type": "execute_result"
    },
    {
     "data": {
      "image/png": "[encoded data removed]",
      "text/plain": [
       "<matplotlib.figure.Figure at 0x7f4e6d6479d0>"
      ]
     },
     "metadata": {},
     "output_type": "display_data"
    }
   ],
   "source": [
    "# Read and clean the GGA information\n",
    "gga = pd.read_table(GGA_filename, delimiter=', ', header=1, engine='python')\n",
    "gga = sc.clean_gga(gga)\n",
    "\n",
    "# Only keep the columns with useful information\n",
    "gga = gga.loc[:,['Time',\n",
    "                 'Year',\n",
    "                 'Month',\n",
    "                 'Day',\n",
    "                 'Hour',\n",
    "                 'Minute',\n",
    "                 'Second',\n",
    "                 'Seconds_Elapsed',\n",
    "                 'Julian_Date',\n",
    "                 'CH4_ppm',\n",
    "                 'CO2_ppm',\n",
    "                 'CH4_ppm_adjusted',\n",
    "                 'CO2_ppm_adjusted']]\n",
    "\n",
    "# plt.plot(gga['Julian_Date'], gga['CO2_ppm_adjusted'])\n",
    "\n",
    "gga = gga.drop(gga[gga.Julian_Date > (1.275 + 2457946)].index)\n",
    "gga = gga.drop(gga[gga.Julian_Date < (1.117 + 2457946)].index)\n",
    "\n",
    "plt.plot(gga['Julian_Date'], gga['CO2_ppm_adjusted'])\n",
    "\n",
    "gga.head(2)"
   ]
  },
  {
   "cell_type": "code",
   "execution_count": 5,
   "metadata": {
    "collapsed": false
   },
   "outputs": [
    {
     "data": {
      "text/html": [
       "<div>\n",
       "<table border=\"1\" class=\"dataframe\">\n",
       "  <thead>\n",
       "    <tr style=\"text-align: right;\">\n",
       "      <th></th>\n",
       "      <th>posixtime</th>\n",
       "      <th>model</th>\n",
       "      <th>SN</th>\n",
       "      <th>O2Concentration</th>\n",
       "      <th>AirSaturation</th>\n",
       "      <th>Temperature</th>\n",
       "      <th>CalPhase</th>\n",
       "      <th>TCPhase</th>\n",
       "      <th>C1RPh</th>\n",
       "      <th>C2RPh</th>\n",
       "      <th>C1Amp</th>\n",
       "      <th>C2Amp</th>\n",
       "      <th>RawTemp</th>\n",
       "      <th>Julian_Date</th>\n",
       "    </tr>\n",
       "  </thead>\n",
       "  <tbody>\n",
       "    <tr>\n",
       "      <th>817</th>\n",
       "      <td>1.499875e+09</td>\n",
       "      <td>\u0013\u00114831</td>\n",
       "      <td>277</td>\n",
       "      <td>146.9122</td>\n",
       "      <td>56.86212</td>\n",
       "      <td>24.90939</td>\n",
       "      <td>36.40923</td>\n",
       "      <td>36.40923</td>\n",
       "      <td>45.06316</td>\n",
       "      <td>8.653923</td>\n",
       "      <td>734.7151</td>\n",
       "      <td>710.5728</td>\n",
       "      <td>45.48639</td>\n",
       "      <td>2.457947e+06</td>\n",
       "    </tr>\n",
       "    <tr>\n",
       "      <th>818</th>\n",
       "      <td>1.499875e+09</td>\n",
       "      <td>\u0013\u00114831</td>\n",
       "      <td>277</td>\n",
       "      <td>146.6408</td>\n",
       "      <td>56.74984</td>\n",
       "      <td>24.90251</td>\n",
       "      <td>36.43424</td>\n",
       "      <td>36.43424</td>\n",
       "      <td>45.08876</td>\n",
       "      <td>8.654518</td>\n",
       "      <td>735.4789</td>\n",
       "      <td>711.1578</td>\n",
       "      <td>45.70924</td>\n",
       "      <td>2.457947e+06</td>\n",
       "    </tr>\n",
       "  </tbody>\n",
       "</table>\n",
       "</div>"
      ],
      "text/plain": [
       "        posixtime   model   SN  O2Concentration  AirSaturation  Temperature  \\\n",
       "817  1.499875e+09  \u0013\u00114831  277         146.9122       56.86212     24.90939   \n",
       "818  1.499875e+09  \u0013\u00114831  277         146.6408       56.74984     24.90251   \n",
       "\n",
       "     CalPhase   TCPhase     C1RPh     C2RPh     C1Amp     C2Amp   RawTemp  \\\n",
       "817  36.40923  36.40923  45.06316  8.653923  734.7151  710.5728  45.48639   \n",
       "818  36.43424  36.43424  45.08876  8.654518  735.4789  711.1578  45.70924   \n",
       "\n",
       "      Julian_Date  \n",
       "817  2.457947e+06  \n",
       "818  2.457947e+06  "
      ]
     },
     "execution_count": 5,
     "metadata": {},
     "output_type": "execute_result"
    }
   ],
   "source": [
    "# Read and clean the optode information\n",
    "op = pd.read_table(Op1_filename, delimiter=',', header=0, engine='python')\n",
    "temp_op1 = pd.read_table(Op2_filename, delimiter=',', header=0, engine='python')\n",
    "temp_op2 = pd.read_table(Op3_filename, delimiter=',', header=0, engine='python')\n",
    "op = op.append(temp_op1, ignore_index=True)\n",
    "op = op.append(temp_op2, ignore_index=True)\n",
    "\n",
    "op = sc.clean_optode(op)\n",
    "\n",
    "op = op.drop(op[op.Julian_Date > (1.275 + 2457946)].index)\n",
    "op = op.drop(op[op.Julian_Date < (1.125 + 2457946)].index)\n",
    "\n",
    "# plt.plot(op['O2Concentration'], op['Temperature'])\n",
    "\n",
    "op = op.drop(op[(op.Julian_Date  > (1.2417 + 2457946)) & (op.Julian_Date < (1.2420 + 2457946))].index)\n",
    "# op_trial = op_trial.drop(op_trial[op_trial.Julian_Date < (1.2420 + 2457946)].index)\n",
    "\n",
    "# plt.plot(op_trial['O2Concentration'], op_trial['Temperature'])\n",
    "\n",
    "op.head(2)"
   ]
  },
  {
   "cell_type": "code",
   "execution_count": 6,
   "metadata": {
    "collapsed": false
   },
   "outputs": [
    {
     "name": "stderr",
     "output_type": "stream",
     "text": [
      "/home/vpreston/anaconda2/lib/python2.7/site-packages/pandas/core/indexing.py:284: SettingWithCopyWarning: \n",
      "A value is trying to be set on a copy of a slice from a DataFrame.\n",
      "Try using .loc[row_indexer,col_indexer] = value instead\n",
      "\n",
      "See the caveats in the documentation: http://pandas.pydata.org/pandas-docs/stable/indexing.html#indexing-view-versus-copy\n",
      "  self.obj[key] = _infer_fill_value(value)\n",
      "/home/vpreston/anaconda2/lib/python2.7/site-packages/pandas/core/indexing.py:461: SettingWithCopyWarning: \n",
      "A value is trying to be set on a copy of a slice from a DataFrame.\n",
      "Try using .loc[row_indexer,col_indexer] = value instead\n",
      "\n",
      "See the caveats in the documentation: http://pandas.pydata.org/pandas-docs/stable/indexing.html#indexing-view-versus-copy\n",
      "  self.obj[item] = s\n"
     ]
    },
    {
     "data": {
      "text/html": [
       "<div>\n",
       "<table border=\"1\" class=\"dataframe\">\n",
       "  <thead>\n",
       "    <tr style=\"text-align: right;\">\n",
       "      <th></th>\n",
       "      <th>lat</th>\n",
       "      <th>lon</th>\n",
       "      <th>lat_mod</th>\n",
       "      <th>lon_mod</th>\n",
       "      <th>distance</th>\n",
       "      <th>side</th>\n",
       "      <th>in_range</th>\n",
       "      <th>Julian_Date</th>\n",
       "      <th>Year</th>\n",
       "      <th>Month</th>\n",
       "      <th>Day</th>\n",
       "      <th>Hour</th>\n",
       "      <th>Minute</th>\n",
       "      <th>Second</th>\n",
       "      <th>Seconds_Elapsed</th>\n",
       "      <th>COG_T</th>\n",
       "      <th>SOG_K</th>\n",
       "      <th>pressure_B</th>\n",
       "      <th>wind_dir_T</th>\n",
       "      <th>wind_speed_M</th>\n",
       "      <th>rateofturn</th>\n",
       "    </tr>\n",
       "  </thead>\n",
       "  <tbody>\n",
       "    <tr>\n",
       "      <th>3047</th>\n",
       "      <td>4145.4858</td>\n",
       "      <td>7041.0774</td>\n",
       "      <td>41.758097</td>\n",
       "      <td>-70.684623</td>\n",
       "      <td>-44.417621</td>\n",
       "      <td>1.0</td>\n",
       "      <td>1.0</td>\n",
       "      <td>2.457947e+06</td>\n",
       "      <td>2017</td>\n",
       "      <td>7</td>\n",
       "      <td>12</td>\n",
       "      <td>15.0</td>\n",
       "      <td>0.0</td>\n",
       "      <td>0.1</td>\n",
       "      <td>1090800.1</td>\n",
       "      <td>7.3</td>\n",
       "      <td>5.1</td>\n",
       "      <td>1.0149</td>\n",
       "      <td>113.2</td>\n",
       "      <td>1.9</td>\n",
       "      <td>0.0</td>\n",
       "    </tr>\n",
       "    <tr>\n",
       "      <th>3048</th>\n",
       "      <td>4145.4868</td>\n",
       "      <td>7041.0774</td>\n",
       "      <td>41.758113</td>\n",
       "      <td>-70.684623</td>\n",
       "      <td>-44.681445</td>\n",
       "      <td>1.0</td>\n",
       "      <td>1.0</td>\n",
       "      <td>2.457947e+06</td>\n",
       "      <td>2017</td>\n",
       "      <td>7</td>\n",
       "      <td>12</td>\n",
       "      <td>15.0</td>\n",
       "      <td>0.0</td>\n",
       "      <td>1.1</td>\n",
       "      <td>1090801.1</td>\n",
       "      <td>8.8</td>\n",
       "      <td>5.5</td>\n",
       "      <td>1.0150</td>\n",
       "      <td>107.9</td>\n",
       "      <td>2.0</td>\n",
       "      <td>0.0</td>\n",
       "    </tr>\n",
       "  </tbody>\n",
       "</table>\n",
       "</div>"
      ],
      "text/plain": [
       "            lat        lon    lat_mod    lon_mod   distance  side  in_range  \\\n",
       "3047  4145.4858  7041.0774  41.758097 -70.684623 -44.417621   1.0       1.0   \n",
       "3048  4145.4868  7041.0774  41.758113 -70.684623 -44.681445   1.0       1.0   \n",
       "\n",
       "       Julian_Date  Year  Month  Day  Hour  Minute  Second  Seconds_Elapsed  \\\n",
       "3047  2.457947e+06  2017      7   12  15.0     0.0     0.1        1090800.1   \n",
       "3048  2.457947e+06  2017      7   12  15.0     0.0     1.1        1090801.1   \n",
       "\n",
       "      COG_T  SOG_K  pressure_B  wind_dir_T  wind_speed_M  rateofturn  \n",
       "3047    7.3    5.1      1.0149       113.2           1.9         0.0  \n",
       "3048    8.8    5.5      1.0150       107.9           2.0         0.0  "
      ]
     },
     "execution_count": 6,
     "metadata": {},
     "output_type": "execute_result"
    }
   ],
   "source": [
    "# Read and clean the airmar weather station information\n",
    "airmar = pd.read_table(AirMar1_filename, delimiter=',', header=0)\n",
    "temp = pd.read_table(AirMar2_filename, delimiter=',', header=0)\n",
    "temp2 = pd.read_table(AirMar3_filename, delimiter=',', header=0)\n",
    "airmar = airmar.append(temp, ignore_index=True)\n",
    "airmar = airmar.append(temp2, ignore_index=True)\n",
    "\n",
    "# Keep only certain columns from the weather station\n",
    "airmar = sc.clean_airmar(airmar)\n",
    "airmar = airmar.loc[:,['lat',\n",
    "                       'lon',\n",
    "                       'lat_mod',\n",
    "                       'lon_mod',\n",
    "                       'distance',\n",
    "                       'side',\n",
    "                       'in_range',\n",
    "                       'Julian_Date',\n",
    "                       'Year',\n",
    "                       'Month',\n",
    "                       'Day',\n",
    "                       'Hour',\n",
    "                       'Minute',\n",
    "                       'Second',\n",
    "                       'Seconds_Elapsed',\n",
    "                       'COG_T',\n",
    "                       'SOG_K',\n",
    "                       'pressure_B',\n",
    "                       'wind_dir_T',\n",
    "                       'wind_speed_M',\n",
    "                       'rateofturn']]\n",
    "\n",
    "airmar = airmar.drop(airmar[airmar.Julian_Date > (1.275 + 2457946)].index)\n",
    "airmar = airmar.drop(airmar[airmar.Julian_Date < (1.125 + 2457946)].index)\n",
    "\n",
    "airmar.head(2)"
   ]
  },
  {
   "cell_type": "code",
   "execution_count": 7,
   "metadata": {
    "collapsed": false
   },
   "outputs": [
    {
     "name": "stderr",
     "output_type": "stream",
     "text": [
      "/home/vpreston/anaconda2/lib/python2.7/site-packages/IPython/core/interactiveshell.py:2902: DtypeWarning: Columns (1,2,3,4,5,6,7,8,9,10,11,12,13,14,15) have mixed types. Specify dtype option on import or set low_memory=False.\n",
      "  interactivity=interactivity, compiler=compiler, result=result)\n"
     ]
    },
    {
     "data": {
      "text/html": [
       "<div>\n",
       "<table border=\"1\" class=\"dataframe\">\n",
       "  <thead>\n",
       "    <tr style=\"text-align: right;\">\n",
       "      <th></th>\n",
       "      <th>Julian_Date</th>\n",
       "      <th>SweepGas_Press_Avg</th>\n",
       "      <th>Year</th>\n",
       "      <th>Month</th>\n",
       "      <th>Day</th>\n",
       "      <th>Hour</th>\n",
       "      <th>Minute</th>\n",
       "      <th>Second</th>\n",
       "      <th>Seconds_Elapsed</th>\n",
       "    </tr>\n",
       "  </thead>\n",
       "  <tbody>\n",
       "    <tr>\n",
       "      <th>59352</th>\n",
       "      <td>2.457947e+06</td>\n",
       "      <td>2360</td>\n",
       "      <td>2017</td>\n",
       "      <td>7</td>\n",
       "      <td>12</td>\n",
       "      <td>14.0</td>\n",
       "      <td>48.0</td>\n",
       "      <td>29.0</td>\n",
       "      <td>1090109.0</td>\n",
       "    </tr>\n",
       "    <tr>\n",
       "      <th>59353</th>\n",
       "      <td>2.457947e+06</td>\n",
       "      <td>2358</td>\n",
       "      <td>2017</td>\n",
       "      <td>7</td>\n",
       "      <td>12</td>\n",
       "      <td>14.0</td>\n",
       "      <td>48.0</td>\n",
       "      <td>30.0</td>\n",
       "      <td>1090110.0</td>\n",
       "    </tr>\n",
       "  </tbody>\n",
       "</table>\n",
       "</div>"
      ],
      "text/plain": [
       "        Julian_Date SweepGas_Press_Avg  Year  Month  Day  Hour  Minute  \\\n",
       "59352  2.457947e+06               2360  2017      7   12  14.0    48.0   \n",
       "59353  2.457947e+06               2358  2017      7   12  14.0    48.0   \n",
       "\n",
       "       Second  Seconds_Elapsed  \n",
       "59352    29.0        1090109.0  \n",
       "59353    30.0        1090110.0  "
      ]
     },
     "execution_count": 7,
     "metadata": {},
     "output_type": "execute_result"
    }
   ],
   "source": [
    "# Read and clean the DGE information\n",
    "dge = pd.read_table(DGE_filename, delimiter=',', header=1)\n",
    "\n",
    "dge = sc.clean_dgeu(dge)\n",
    "\n",
    "#strip away old data\n",
    "dge = dge.drop(dge[dge.Julian_Date > (1.275 + 2457946)].index)\n",
    "dge = dge.drop(dge[dge.Julian_Date < (1.117 + 2457946)].index)\n",
    "\n",
    "#keep only certain columns\n",
    "dge = dge.loc[:,['Julian_Date',\n",
    "                 'SweepGas_Press_Avg',\n",
    "                 'Year',\n",
    "                 'Month',\n",
    "                 'Day',\n",
    "                 'Hour',\n",
    "                 'Minute',\n",
    "                 'Second',\n",
    "                 'Seconds_Elapsed']]\n",
    "\n",
    "dge.head(2)"
   ]
  },
  {
   "cell_type": "code",
   "execution_count": 8,
   "metadata": {
    "collapsed": false
   },
   "outputs": [
    {
     "data": {
      "text/html": [
       "<div>\n",
       "<table border=\"1\" class=\"dataframe\">\n",
       "  <thead>\n",
       "    <tr style=\"text-align: right;\">\n",
       "      <th></th>\n",
       "      <th>Julian_Date</th>\n",
       "      <th>0.00</th>\n",
       "      <th>Year</th>\n",
       "      <th>Month</th>\n",
       "      <th>Day</th>\n",
       "      <th>Hour</th>\n",
       "      <th>Minute</th>\n",
       "      <th>Second</th>\n",
       "      <th>Seconds_Elapsed</th>\n",
       "    </tr>\n",
       "  </thead>\n",
       "  <tbody>\n",
       "    <tr>\n",
       "      <th>40494</th>\n",
       "      <td>2.457947e+06</td>\n",
       "      <td>16.28</td>\n",
       "      <td>2017</td>\n",
       "      <td>7</td>\n",
       "      <td>12</td>\n",
       "      <td>14</td>\n",
       "      <td>48</td>\n",
       "      <td>33.9516</td>\n",
       "      <td>1.090114e+06</td>\n",
       "    </tr>\n",
       "    <tr>\n",
       "      <th>40505</th>\n",
       "      <td>2.457947e+06</td>\n",
       "      <td>16.31</td>\n",
       "      <td>2017</td>\n",
       "      <td>7</td>\n",
       "      <td>12</td>\n",
       "      <td>14</td>\n",
       "      <td>48</td>\n",
       "      <td>50.7348</td>\n",
       "      <td>1.090131e+06</td>\n",
       "    </tr>\n",
       "  </tbody>\n",
       "</table>\n",
       "</div>"
      ],
      "text/plain": [
       "        Julian_Date   0.00  Year  Month  Day  Hour  Minute   Second  \\\n",
       "40494  2.457947e+06  16.28  2017      7   12    14      48  33.9516   \n",
       "40505  2.457947e+06  16.31  2017      7   12    14      48  50.7348   \n",
       "\n",
       "       Seconds_Elapsed  \n",
       "40494     1.090114e+06  \n",
       "40505     1.090131e+06  "
      ]
     },
     "execution_count": 8,
     "metadata": {},
     "output_type": "execute_result"
    }
   ],
   "source": [
    "# Read and clean the nitrate information\n",
    "nitrate = pd.read_table(Nitrate1_filename, delimiter=',', header=14)\n",
    "temp1 = pd.read_table(Nitrate2_filename, delimiter=',', header=14)\n",
    "temp2 = pd.read_table(Nitrate3_filename, delimiter=',', header=14)\n",
    "nitrate = nitrate.append(temp1, ignore_index=True)\n",
    "nitrate = nitrate.append(temp2, ignore_index=True)\n",
    "\n",
    "nitrate = sc.clean_nitrate(nitrate)\n",
    "\n",
    "#keep only certain columns\n",
    "nitrate = nitrate.loc[:,['Julian_Date',\n",
    "                         '0.00',\n",
    "                         'Year',\n",
    "                         'Month',\n",
    "                         'Day',\n",
    "                         'Hour',\n",
    "                         'Minute',\n",
    "                         'Second',\n",
    "                         'Seconds_Elapsed']]\n",
    "\n",
    "#strip away old or bad data\n",
    "nitrate = nitrate.drop(nitrate[nitrate.Julian_Date > (1.275 + 2457946)].index)\n",
    "nitrate = nitrate.drop(nitrate[nitrate.Julian_Date < (1.117 + 2457946)].index)\n",
    "nitrate = nitrate.drop(nitrate[nitrate['0.00'] < 0].index)\n",
    "\n",
    "nitrate.head(2)"
   ]
  },
  {
   "cell_type": "code",
   "execution_count": 9,
   "metadata": {
    "collapsed": true
   },
   "outputs": [],
   "source": [
    "#***********************************\n",
    "#Only run this cell if new CSVs need to be generated!\n",
    "#***********************************\n",
    "\n",
    "# Write these tables into CSVs\n",
    "ctd.to_csv('./Cleaned_Data/ctd.csv', sep=',')\n",
    "gga.to_csv('./Cleaned_Data/gga.csv', sep=',')\n",
    "op.to_csv('./Cleaned_Data/op.csv', sep=',')\n",
    "airmar.to_csv('./Cleaned_Data/airmar.csv', sep=',')\n",
    "dge.to_csv('./Cleaned_Data/dge.csv', sep=',')\n",
    "nitrate.to_csv('./Cleaned_Data/nitrate.csv', sep=',')"
   ]
  },
  {
   "cell_type": "markdown",
   "metadata": {},
   "source": [
    "## Combining Instruments through Interpolation"
   ]
  },
  {
   "cell_type": "code",
   "execution_count": 10,
   "metadata": {
    "collapsed": false
   },
   "outputs": [],
   "source": [
    "#Create dataframes which are indexed by the common timestamp, which in this case is Julian Date\n",
    "ctd_jd = ctd.set_index('Julian_Date')\n",
    "gga_jd = gga.set_index('Julian_Date')\n",
    "op_jd = op.set_index('Julian_Date')\n",
    "airmar_jd = airmar.drop_duplicates(subset='Julian_Date', keep='last').set_index('Julian_Date') #airmar has bad data\n",
    "dge_jd = dge.set_index('Julian_Date')\n",
    "nitrate_jd = nitrate.set_index('Julian_Date')"
   ]
  },
  {
   "cell_type": "code",
   "execution_count": 11,
   "metadata": {
    "collapsed": false
   },
   "outputs": [],
   "source": [
    "#Combine all of the dataframes together\n",
    "temp= pd.concat([ctd_jd, gga_jd, op_jd, dge_jd, nitrate_jd, airmar_jd], \n",
    "                axis=1, \n",
    "                keys=['ctd', 'gga', 'op', 'dge', 'nitrate', 'airmar'])\n",
    "\n",
    "#Interpolate information\n",
    "inter_temp = temp.interpolate()\n",
    "\n",
    "#Resample the data frame to the index of the CTD instrument\n",
    "ctd_index = ctd_jd.index\n",
    "complete_data = inter_temp.loc[ctd_index]\n"
   ]
  },
  {
   "cell_type": "code",
   "execution_count": 12,
   "metadata": {
    "collapsed": true
   },
   "outputs": [],
   "source": [
    "#***********************************\n",
    "#Only run this cell if new CSV needs to be generated!\n",
    "#***********************************\n",
    "\n",
    "# Write these tables into CSVs\n",
    "complete_data.to_csv('./Cleaned_Data/interpolated_complete_data.csv', sep=',')"
   ]
  },
  {
   "cell_type": "markdown",
   "metadata": {},
   "source": [
    "## Seperating out Transects\n",
    "Through observing the data, the following 6 transects were identified (in Julian Date).\n",
    "\n",
    "It is important to note the following:\n",
    "- Transect A and Transect F include start-up and shut-down of the vehicle, which means some of the data may be erroneous. Transect F is particularly incomplete, and may simply be ignored in making future claims.\n",
    "- Transect A: Covers from plume to the \"bridge\" on the wide part of the river. A back and forth transect across the river flow was done.\n",
    "- Transect B: Covers the full river\n",
    "- Transect C: Covers the full river\n",
    "- Transect D: Covers from plume to the \"house\" on the small, serpentine part of the river\n",
    "- Transect E: Covers the slow tranverse to the \"bridge\", so is not a straightforward up and back transect, but rather circles around several areas over time\n",
    "- Transect F: Appears to contain disrupted/corrupted information, but theoretically covers from \"bridge\" to plume."
   ]
  },
  {
   "cell_type": "code",
   "execution_count": 13,
   "metadata": {
    "collapsed": false
   },
   "outputs": [],
   "source": [
    "transect_A = complete_data[complete_data.index <= 2457947.1471]\n",
    "transect_B = complete_data[(complete_data.index <= 2457947.19) & (complete_data.index > 2457947.1471)]\n",
    "transect_C = complete_data[(complete_data.index <= 2457947.2015) & (complete_data.index > 2457947.19)]\n",
    "transect_D = complete_data[(complete_data.index <= 2457947.2157) & (complete_data.index > 2457947.2015)]\n",
    "transect_E = complete_data[(complete_data.index <= 2457947.2655) & (complete_data.index > 2457947.2157)]\n",
    "# transect_F = complete_data[complete_data.index > 2457947.2655]"
   ]
  },
  {
   "cell_type": "code",
   "execution_count": 14,
   "metadata": {
    "collapsed": true
   },
   "outputs": [],
   "source": [
    "#***********************************\n",
    "#Only run this cell if new CSVs need to be generated!\n",
    "#***********************************\n",
    "\n",
    "# Write these tables into CSVs\n",
    "transect_A.to_csv('./Cleaned_Data/transectA.csv', sep=',')\n",
    "transect_B.to_csv('./Cleaned_Data/transectB.csv', sep=',')\n",
    "transect_C.to_csv('./Cleaned_Data/transectC.csv', sep=',')\n",
    "transect_D.to_csv('./Cleaned_Data/transectD.csv', sep=',')\n",
    "transect_E.to_csv('./Cleaned_Data/transectE.csv', sep=',')\n",
    "# transect_F.to_csv('./Cleaned_Data/transectF.csv', sep=',')"
   ]
  },
  {
   "cell_type": "code",
   "execution_count": null,
   "metadata": {
    "collapsed": true
   },
   "outputs": [],
   "source": []
  }
 ],
 "metadata": {
  "kernelspec": {
   "display_name": "Python 2",
   "language": "python",
   "name": "python2"
  },
  "language_info": {
   "codemirror_mode": {
    "name": "ipython",
    "version": 2
   },
   "file_extension": ".py",
   "mimetype": "text/x-python",
   "name": "python",
   "nbconvert_exporter": "python",
   "pygments_lexer": "ipython2",
   "version": "2.7.12"
  }
 },
 "nbformat": 4,
 "nbformat_minor": 0
}
